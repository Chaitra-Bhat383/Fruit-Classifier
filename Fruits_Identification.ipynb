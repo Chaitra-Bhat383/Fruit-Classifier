{
  "nbformat": 4,
  "nbformat_minor": 0,
  "metadata": {
    "colab": {
      "name": "Fruits Identification.ipynb",
      "provenance": [],
      "authorship_tag": "ABX9TyPrq/COZSvKVqwjblDKjXpk",
      "include_colab_link": true
    },
    "kernelspec": {
      "name": "python3",
      "display_name": "Python 3"
    },
    "language_info": {
      "name": "python"
    },
    "accelerator": "GPU"
  },
  "cells": [
    {
      "cell_type": "markdown",
      "metadata": {
        "id": "view-in-github",
        "colab_type": "text"
      },
      "source": [
        "<a href=\"https://colab.research.google.com/github/Chaitra-Bhat383/Fruit-Identifier/blob/main/Fruits_Identification.ipynb\" target=\"_parent\"><img src=\"https://colab.research.google.com/assets/colab-badge.svg\" alt=\"Open In Colab\"/></a>"
      ]
    },
    {
      "cell_type": "code",
      "metadata": {
        "colab": {
          "base_uri": "https://localhost:8080/"
        },
        "id": "WSLTm0yQWBso",
        "outputId": "c1f7543d-75d3-4d3e-dab1-871035ab771f"
      },
      "source": [
        "!nvidia-smi"
      ],
      "execution_count": null,
      "outputs": [
        {
          "output_type": "stream",
          "text": [
            "Fri Jun  4 19:29:51 2021       \n",
            "+-----------------------------------------------------------------------------+\n",
            "| NVIDIA-SMI 465.27       Driver Version: 460.32.03    CUDA Version: 11.2     |\n",
            "|-------------------------------+----------------------+----------------------+\n",
            "| GPU  Name        Persistence-M| Bus-Id        Disp.A | Volatile Uncorr. ECC |\n",
            "| Fan  Temp  Perf  Pwr:Usage/Cap|         Memory-Usage | GPU-Util  Compute M. |\n",
            "|                               |                      |               MIG M. |\n",
            "|===============================+======================+======================|\n",
            "|   0  Tesla T4            Off  | 00000000:00:04.0 Off |                    0 |\n",
            "| N/A   43C    P8     9W /  70W |      0MiB / 15109MiB |      0%      Default |\n",
            "|                               |                      |                  N/A |\n",
            "+-------------------------------+----------------------+----------------------+\n",
            "                                                                               \n",
            "+-----------------------------------------------------------------------------+\n",
            "| Processes:                                                                  |\n",
            "|  GPU   GI   CI        PID   Type   Process name                  GPU Memory |\n",
            "|        ID   ID                                                   Usage      |\n",
            "|=============================================================================|\n",
            "|  No running processes found                                                 |\n",
            "+-----------------------------------------------------------------------------+\n"
          ],
          "name": "stdout"
        }
      ]
    },
    {
      "cell_type": "code",
      "metadata": {
        "colab": {
          "base_uri": "https://localhost:8080/"
        },
        "id": "jqFv5_DDgjm_",
        "outputId": "ac608bbf-c431-42f4-fd03-cd0e4bd23a6c"
      },
      "source": [
        "!wget https://www.dropbox.com/s/nmy725nyna1jauw/FruitsData.zip?dl=0"
      ],
      "execution_count": null,
      "outputs": [
        {
          "output_type": "stream",
          "text": [
            "--2021-06-04 19:31:33--  https://www.dropbox.com/s/nmy725nyna1jauw/FruitsData.zip?dl=0\n",
            "Resolving www.dropbox.com (www.dropbox.com)... 162.125.6.18, 2620:100:601c:18::a27d:612\n",
            "Connecting to www.dropbox.com (www.dropbox.com)|162.125.6.18|:443... connected.\n",
            "HTTP request sent, awaiting response... 301 Moved Permanently\n",
            "Location: /s/raw/nmy725nyna1jauw/FruitsData.zip [following]\n",
            "--2021-06-04 19:31:34--  https://www.dropbox.com/s/raw/nmy725nyna1jauw/FruitsData.zip\n",
            "Reusing existing connection to www.dropbox.com:443.\n",
            "HTTP request sent, awaiting response... 302 Found\n",
            "Location: https://uc3dd67a0911487acd3dc93a5051.dl.dropboxusercontent.com/cd/0/inline/BPwtbr0KXkjmnMu4HGLTMlhlMcNji4ltuHDPuLVWSQKIwcZIxjJbmiKXSDcT58ZLTXPyss2UBK52BmkJbDD9OGzY1yhhH2aIc8vgDpujwNAxGlC5dSc1BTcxicNK2DIaPxpeSlrWQn-QBfWjSKYwNJ4x/file# [following]\n",
            "--2021-06-04 19:31:35--  https://uc3dd67a0911487acd3dc93a5051.dl.dropboxusercontent.com/cd/0/inline/BPwtbr0KXkjmnMu4HGLTMlhlMcNji4ltuHDPuLVWSQKIwcZIxjJbmiKXSDcT58ZLTXPyss2UBK52BmkJbDD9OGzY1yhhH2aIc8vgDpujwNAxGlC5dSc1BTcxicNK2DIaPxpeSlrWQn-QBfWjSKYwNJ4x/file\n",
            "Resolving uc3dd67a0911487acd3dc93a5051.dl.dropboxusercontent.com (uc3dd67a0911487acd3dc93a5051.dl.dropboxusercontent.com)... 162.125.6.15, 2620:100:601c:15::a27d:60f\n",
            "Connecting to uc3dd67a0911487acd3dc93a5051.dl.dropboxusercontent.com (uc3dd67a0911487acd3dc93a5051.dl.dropboxusercontent.com)|162.125.6.15|:443... connected.\n",
            "HTTP request sent, awaiting response... 302 Found\n",
            "Location: /cd/0/inline2/BPwAgaiDHBy9eBCD-iBz22w1ujBjDiEkBGkA28uZKgBe3Al1fguGKUrdn3kiYmbt2FtVJsk67DQ7-LgB6cZvhyU6gvhU1BWD1SFcpqJ3OAtH5lPTVbsApDUnfcDvPVH8BRivhETtsLoamYJ3F3UcwHC_wXMFNQkOLWu-61fdx0gL_1thLhFa9FoGgxs-Y0PV9rmOWH6JhcUSMMZv1wF_6zkPkRpk8bymyWiRr4u_7KSa-BBAZunTSw-ufg2EtidBZTwNIp12CKQKB64hGS-Vn7pLWJrawPNeNx_XDArsr9YuYD1R9dRuF22NsYvaNgWmMCp4S4ZYloUQ5elquLVaVjZTi-MgLJfp-qwHy9Fx1HctRjEYFyiVr132C7EExw57_rM/file [following]\n",
            "--2021-06-04 19:31:35--  https://uc3dd67a0911487acd3dc93a5051.dl.dropboxusercontent.com/cd/0/inline2/BPwAgaiDHBy9eBCD-iBz22w1ujBjDiEkBGkA28uZKgBe3Al1fguGKUrdn3kiYmbt2FtVJsk67DQ7-LgB6cZvhyU6gvhU1BWD1SFcpqJ3OAtH5lPTVbsApDUnfcDvPVH8BRivhETtsLoamYJ3F3UcwHC_wXMFNQkOLWu-61fdx0gL_1thLhFa9FoGgxs-Y0PV9rmOWH6JhcUSMMZv1wF_6zkPkRpk8bymyWiRr4u_7KSa-BBAZunTSw-ufg2EtidBZTwNIp12CKQKB64hGS-Vn7pLWJrawPNeNx_XDArsr9YuYD1R9dRuF22NsYvaNgWmMCp4S4ZYloUQ5elquLVaVjZTi-MgLJfp-qwHy9Fx1HctRjEYFyiVr132C7EExw57_rM/file\n",
            "Reusing existing connection to uc3dd67a0911487acd3dc93a5051.dl.dropboxusercontent.com:443.\n",
            "HTTP request sent, awaiting response... 200 OK\n",
            "Length: 796742678 (760M) [application/zip]\n",
            "Saving to: ‘FruitsData.zip?dl=0’\n",
            "\n",
            "FruitsData.zip?dl=0 100%[===================>] 759.83M   146MB/s    in 5.6s    \n",
            "\n",
            "2021-06-04 19:31:41 (137 MB/s) - ‘FruitsData.zip?dl=0’ saved [796742678/796742678]\n",
            "\n"
          ],
          "name": "stdout"
        }
      ]
    },
    {
      "cell_type": "code",
      "metadata": {
        "id": "rNjtQ5oshE9V"
      },
      "source": [
        "!unzip -q \"/content/FruitsData.zip?dl=0\""
      ],
      "execution_count": null,
      "outputs": []
    },
    {
      "cell_type": "code",
      "metadata": {
        "id": "FQ3VGKjzhmtC"
      },
      "source": [
        "#Imports required for this project\n",
        "import tensorflow as tf\n",
        "import numpy as np\n",
        "import matplotlib.pyplot as plt\n",
        "from pathlib import Path\n",
        "\n",
        "tf.random.set_seed(4)"
      ],
      "execution_count": null,
      "outputs": []
    },
    {
      "cell_type": "code",
      "metadata": {
        "id": "WB_YpA-ziHNh"
      },
      "source": [
        "# Creating the Pathlib PATH objects\n",
        "train_path = Path(\"fruits-360/Training\")\n",
        "test_path = Path(\"fruits-360/Test\")"
      ],
      "execution_count": null,
      "outputs": []
    },
    {
      "cell_type": "code",
      "metadata": {
        "colab": {
          "base_uri": "https://localhost:8080/"
        },
        "id": "4u2T_x9Uiky8",
        "outputId": "8edea788-c137-4b4f-f94d-50286995e412"
      },
      "source": [
        "# Getting Image paths\n",
        "train_image_paths = list(train_path.glob(\"*/*\"))\n",
        "train_image_paths = list(map(lambda x : str(x) , train_image_paths))\n",
        "\n",
        "train_image_paths[:10]"
      ],
      "execution_count": null,
      "outputs": [
        {
          "output_type": "execute_result",
          "data": {
            "text/plain": [
              "['fruits-360/Training/Apple Pink Lady/120_100.jpg',\n",
              " 'fruits-360/Training/Apple Pink Lady/r_189_100.jpg',\n",
              " 'fruits-360/Training/Apple Pink Lady/233_100.jpg',\n",
              " 'fruits-360/Training/Apple Pink Lady/r_274_100.jpg',\n",
              " 'fruits-360/Training/Apple Pink Lady/r_129_100.jpg',\n",
              " 'fruits-360/Training/Apple Pink Lady/r_287_100.jpg',\n",
              " 'fruits-360/Training/Apple Pink Lady/0_100.jpg',\n",
              " 'fruits-360/Training/Apple Pink Lady/r_123_100.jpg',\n",
              " 'fruits-360/Training/Apple Pink Lady/r_79_100.jpg',\n",
              " 'fruits-360/Training/Apple Pink Lady/205_100.jpg']"
            ]
          },
          "metadata": {
            "tags": []
          },
          "execution_count": 12
        }
      ]
    },
    {
      "cell_type": "code",
      "metadata": {
        "colab": {
          "base_uri": "https://localhost:8080/"
        },
        "id": "gdXNfdTYjUB_",
        "outputId": "69c6f5ab-7d67-40ec-9716-75fc9affc907"
      },
      "source": [
        "# Getting their respective labels\n",
        "\n",
        "def get_label(image_path):\n",
        "  return image_path.split(\"/\")[-2]\n",
        "\n",
        "train_image_labels = list(map(lambda x : get_label(x) , train_image_paths))\n",
        "train_image_labels[:10]"
      ],
      "execution_count": null,
      "outputs": [
        {
          "output_type": "execute_result",
          "data": {
            "text/plain": [
              "['Apple Pink Lady',\n",
              " 'Apple Pink Lady',\n",
              " 'Apple Pink Lady',\n",
              " 'Apple Pink Lady',\n",
              " 'Apple Pink Lady',\n",
              " 'Apple Pink Lady',\n",
              " 'Apple Pink Lady',\n",
              " 'Apple Pink Lady',\n",
              " 'Apple Pink Lady',\n",
              " 'Apple Pink Lady']"
            ]
          },
          "metadata": {
            "tags": []
          },
          "execution_count": 13
        }
      ]
    },
    {
      "cell_type": "code",
      "metadata": {
        "colab": {
          "base_uri": "https://localhost:8080/"
        },
        "id": "DWe5ROIJj322",
        "outputId": "51293c51-6c47-4cfe-e65e-66413f6bfd38"
      },
      "source": [
        "from sklearn.preprocessing import LabelEncoder\n",
        "\n",
        "Le = LabelEncoder()\n",
        "train_image_labels = Le.fit_transform(train_image_labels)\n",
        "\n",
        "train_image_labels[:10]"
      ],
      "execution_count": null,
      "outputs": [
        {
          "output_type": "execute_result",
          "data": {
            "text/plain": [
              "array([6, 6, 6, 6, 6, 6, 6, 6, 6, 6])"
            ]
          },
          "metadata": {
            "tags": []
          },
          "execution_count": 14
        }
      ]
    },
    {
      "cell_type": "code",
      "metadata": {
        "colab": {
          "base_uri": "https://localhost:8080/"
        },
        "id": "JhO3IBnFki1f",
        "outputId": "4a66002a-d62a-4da1-a4c9-84cc29579983"
      },
      "source": [
        "train_image_labels = tf.keras.utils.to_categorical(train_image_labels)\n",
        "\n",
        "train_image_labels[:10]"
      ],
      "execution_count": null,
      "outputs": [
        {
          "output_type": "execute_result",
          "data": {
            "text/plain": [
              "array([[0., 0., 0., ..., 0., 0., 0.],\n",
              "       [0., 0., 0., ..., 0., 0., 0.],\n",
              "       [0., 0., 0., ..., 0., 0., 0.],\n",
              "       ...,\n",
              "       [0., 0., 0., ..., 0., 0., 0.],\n",
              "       [0., 0., 0., ..., 0., 0., 0.],\n",
              "       [0., 0., 0., ..., 0., 0., 0.]], dtype=float32)"
            ]
          },
          "metadata": {
            "tags": []
          },
          "execution_count": 15
        }
      ]
    },
    {
      "cell_type": "code",
      "metadata": {
        "id": "skfZhKXwk3wo"
      },
      "source": [
        "from sklearn.model_selection import train_test_split\n",
        "\n",
        "Train_paths , Val_paths , Train_labels , Val_labels = train_test_split(train_image_paths , train_image_labels)"
      ],
      "execution_count": null,
      "outputs": []
    },
    {
      "cell_type": "code",
      "metadata": {
        "colab": {
          "base_uri": "https://localhost:8080/"
        },
        "id": "K_kng_KOlWXX",
        "outputId": "dfd0d97a-186a-4108-a434-4010e84ba942"
      },
      "source": [
        "Train_paths[:10] , Train_labels[:10]"
      ],
      "execution_count": null,
      "outputs": [
        {
          "output_type": "execute_result",
          "data": {
            "text/plain": [
              "(['fruits-360/Training/Maracuja/100_100.jpg',\n",
              "  'fruits-360/Training/Pear Stone/r_289_100.jpg',\n",
              "  'fruits-360/Training/Nut Forest/r_40_100.jpg',\n",
              "  'fruits-360/Training/Strawberry/r_230_100.jpg',\n",
              "  'fruits-360/Training/Walnut/r_238_100.jpg',\n",
              "  'fruits-360/Training/Pear Williams/r_174_100.jpg',\n",
              "  'fruits-360/Training/Tangelo/194_100.jpg',\n",
              "  'fruits-360/Training/Plum 3/r_295_100.jpg',\n",
              "  'fruits-360/Training/Apple Red Delicious/148_100.jpg',\n",
              "  'fruits-360/Training/Cherry Rainier/197_100.jpg'],\n",
              " array([[0., 0., 0., ..., 0., 0., 0.],\n",
              "        [0., 0., 0., ..., 0., 0., 0.],\n",
              "        [0., 0., 0., ..., 0., 0., 0.],\n",
              "        ...,\n",
              "        [0., 0., 0., ..., 0., 0., 0.],\n",
              "        [0., 0., 0., ..., 0., 0., 0.],\n",
              "        [0., 0., 0., ..., 0., 0., 0.]], dtype=float32))"
            ]
          },
          "metadata": {
            "tags": []
          },
          "execution_count": 17
        }
      ]
    },
    {
      "cell_type": "code",
      "metadata": {
        "id": "azYMUKxBlfWk"
      },
      "source": [
        "# Function used for Transformation\n",
        "\n",
        "def load(image , label):\n",
        "  image = tf.io.read_file(image)\n",
        "  image = tf.io.decode_jpeg(image , channels = 3)\n",
        "  return image , label"
      ],
      "execution_count": null,
      "outputs": []
    },
    {
      "cell_type": "code",
      "metadata": {
        "id": "S7UixlM9mae5"
      },
      "source": [
        "# Define IMAGE SIZE and BATCH SIZE\n",
        "IMG_SIZE = 224\n",
        "BATCH_SIZE = 32\n",
        "\n",
        "#Basic Transformation\n",
        "resize = tf.keras.Sequential([\n",
        "  tf.keras.layers.experimental.preprocessing.Resizing(IMG_SIZE, IMG_SIZE)                            \n",
        "])\n",
        "\n",
        "# Data Augmentation\n",
        "data_augmentation = tf.keras.Sequential([\n",
        "  tf.keras.layers.experimental.preprocessing.RandomFlip(\"horizontal\"),\n",
        "  tf.keras.layers.experimental.preprocessing.RandomRotation(0.2),\n",
        "  tf.keras.layers.experimental.preprocessing.RandomZoom(height_factor = (-0.3, -0.2))                                         \n",
        "])"
      ],
      "execution_count": null,
      "outputs": []
    },
    {
      "cell_type": "code",
      "metadata": {
        "id": "ny-DHaOCo6sO"
      },
      "source": [
        "# Function used to create a Tensorflow Data Object\n",
        "AUTOTUNE = tf.data.experimental.AUTOTUNE\n",
        "def get_dataset(paths , labels , train = True):\n",
        "  image_paths = tf.convert_to_tensor(paths)\n",
        "  labels = tf.convert_to_tensor(labels)\n",
        "\n",
        "  image_dataset = tf.data.Dataset.from_tensor_slices(image_paths)\n",
        "  label_dataset = tf.data.Dataset.from_tensor_slices(labels)\n",
        "\n",
        "  dataset = tf.data.Dataset.zip((image_dataset , label_dataset))\n",
        "\n",
        "  dataset = dataset.map(lambda image , label : load(image , label))\n",
        "  dataset = dataset.map(lambda image , label: (resize(image), label) , num_parallel_calls=AUTOTUNE)\n",
        "  dataset = dataset.shuffle(1000)\n",
        "  dataset = dataset.batch(BATCH_SIZE)\n",
        "\n",
        "  if train:\n",
        "    dataset = dataset.map(lambda image, label: (data_augmentation(image), label) , num_parallel_calls=AUTOTUNE)\n",
        "\n",
        "  dataset = dataset.repeat()\n",
        "  return dataset"
      ],
      "execution_count": null,
      "outputs": []
    },
    {
      "cell_type": "code",
      "metadata": {
        "colab": {
          "base_uri": "https://localhost:8080/"
        },
        "id": "8M6R2hrIxwOH",
        "outputId": "e5e9625f-865b-491d-fb8c-c9465c108d4c"
      },
      "source": [
        "#Creating Train Dataset object and verifying it\n",
        "%time train_dataset = get_dataset(Train_paths , Train_labels)                                                \n",
        "\n",
        "image , label = next(iter(train_dataset))\n",
        "print(image.shape)\n",
        "print(label.shape)"
      ],
      "execution_count": null,
      "outputs": [
        {
          "output_type": "stream",
          "text": [
            "CPU times: user 321 ms, sys: 15.2 ms, total: 336 ms\n",
            "Wall time: 364 ms\n",
            "(32, 224, 224, 3)\n",
            "(32, 131)\n"
          ],
          "name": "stdout"
        }
      ]
    },
    {
      "cell_type": "code",
      "metadata": {
        "colab": {
          "base_uri": "https://localhost:8080/",
          "height": 302
        },
        "id": "3Dd1iyMO17y3",
        "outputId": "1666ae7d-29cb-4262-93da-c25c082e7b23"
      },
      "source": [
        "# View a sample Training Image\n",
        "print(Le.inverse_transform(np.argmax(label , axis = 1))[0])\n",
        "plt.imshow((image[0].numpy()/255).reshape(224 , 224 , 3))"
      ],
      "execution_count": null,
      "outputs": [
        {
          "output_type": "stream",
          "text": [
            "Granadilla\n"
          ],
          "name": "stdout"
        },
        {
          "output_type": "execute_result",
          "data": {
            "text/plain": [
              "<matplotlib.image.AxesImage at 0x7f043b6a6cd0>"
            ]
          },
          "metadata": {
            "tags": []
          },
          "execution_count": 33
        },
        {
          "output_type": "display_data",
          "data": {
            "image/png": "[encoded data removed]",
            "text/plain": [
              "<Figure size 432x288 with 1 Axes>"
            ]
          },
          "metadata": {
            "tags": [],
            "needs_background": "light"
          }
        }
      ]
    },
    {
      "cell_type": "code",
      "metadata": {
        "colab": {
          "base_uri": "https://localhost:8080/"
        },
        "id": "YSSgtlc22izN",
        "outputId": "ef9ed182-4953-4c4c-ca3a-19fabe12d7e0"
      },
      "source": [
        "%time val_dataset = get_dataset(Val_paths , Val_labels , train = False)\n",
        "\n",
        "image , label = next(iter(val_dataset))\n",
        "print(image.shape)\n",
        "print(label.shape)"
      ],
      "execution_count": null,
      "outputs": [
        {
          "output_type": "stream",
          "text": [
            "CPU times: user 29.7 ms, sys: 3.07 ms, total: 32.8 ms\n",
            "Wall time: 38.5 ms\n",
            "(32, 224, 224, 3)\n",
            "(32, 131)\n"
          ],
          "name": "stdout"
        }
      ]
    },
    {
      "cell_type": "code",
      "metadata": {
        "colab": {
          "base_uri": "https://localhost:8080/"
        },
        "id": "oNJGvvQh4IXC",
        "outputId": "92203849-17fb-4548-80a1-f073e7f238c8"
      },
      "source": [
        "# Building ResNet50 Model\n",
        "from tensorflow.keras.applications import ResNet50V2\n",
        "\n",
        "backbone = ResNet50V2(\n",
        "    input_shape=(224, 224, 3),\n",
        "    include_top=False\n",
        ")\n",
        "\n",
        "model = tf.keras.Sequential([\n",
        "  backbone,\n",
        "  tf.keras.layers.GlobalAveragePooling2D(),\n",
        "  tf.keras.layers.Dense(131, activation='softmax')\n",
        "])\n",
        "\n",
        "model.summary()"
      ],
      "execution_count": null,
      "outputs": [
        {
          "output_type": "stream",
          "text": [
            "Downloading data from https://storage.googleapis.com/tensorflow/keras-applications/resnet/resnet50v2_weights_tf_dim_ordering_tf_kernels_notop.h5\n",
            "94674944/94668760 [==============================] - 1s 0us/step\n",
            "Model: \"sequential_2\"\n",
            "_________________________________________________________________\n",
            "Layer (type)                 Output Shape              Param #   \n",
            "=================================================================\n",
            "resnet50v2 (Functional)      (None, 7, 7, 2048)        23564800  \n",
            "_________________________________________________________________\n",
            "global_average_pooling2d (Gl (None, 2048)              0         \n",
            "_________________________________________________________________\n",
            "dense (Dense)                (None, 131)               268419    \n",
            "=================================================================\n",
            "Total params: 23,833,219\n",
            "Trainable params: 23,787,779\n",
            "Non-trainable params: 45,440\n",
            "_________________________________________________________________\n"
          ],
          "name": "stdout"
        }
      ]
    },
    {
      "cell_type": "code",
      "metadata": {
        "id": "-GbWnAYk5jSr"
      },
      "source": [
        "# Compiling your model by providing the Optimiser , Loss and Metrics\n",
        "model.compile(\n",
        "    optimiser=tf.keras.optimizers.Adam(learning_rate=0.001, beta_1=0.9, beta_2=0.999, epsilon=1e-07),\n",
        "    loss = 'categorial_crossentropy',\n",
        "    metrics=['accuracy' , tf.keras.metrics.Precision(name='precision'),tf.keras.metrics.Recall(name='recall')] \n",
        ")"
      ],
      "execution_count": null,
      "outputs": []
    },
    {
      "cell_type": "markdown",
      "metadata": {
        "id": "WIlgKkOcoLyc"
      },
      "source": [
        ""
      ]
    }
  ]
}